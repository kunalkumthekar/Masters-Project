{
 "cells": [
  {
   "cell_type": "code",
   "execution_count": 12,
   "metadata": {
    "tags": []
   },
   "outputs": [],
   "source": [
    "import math\n",
    "import numpy as np\n",
    "import cv2\n",
    "# import yolo_preprocessing\n",
    "# from yolo_preprocessing import read_annotations"
   ]
  },
  {
   "cell_type": "code",
   "execution_count": 13,
   "metadata": {},
   "outputs": [],
   "source": [
    "def read_annotations(img_dir, edge_threshold, side_threshold):\n",
    "\n",
    "    all_imgs = []\n",
    "\n",
    "    # creating empty box of list of arrays where images would be later stored in\n",
    "    seen_labels = {}\n",
    "    # labels would be soon appended in this empty dict list\n",
    "\n",
    "    for ann_file_name in sorted(os.listdir(img_dir)):\n",
    "\n",
    "        # creates a list of names in the given image directory (img_dir)\n",
    "        # sorted() function\n",
    "        ext = os.path.splitext(ann_file_name)[1]\n",
    "\n",
    "        # splits the pathname into the its name and its extension (basically ext is index 1 of the total file name eg:filenam.ext))\n",
    "\n",
    "        if ext == \".txt\":\n",
    "            img = {\"object\": []}\n",
    "            # instantisation\n",
    "\n",
    "            img_file_name = img_dir + ann_file_name\n",
    "\n",
    "            # technically contains the absolute(abs) path to the file ann_file_name\n",
    "\n",
    "            # print(\"img_file_name= \", img_file_name)\n",
    "\n",
    "            # print( \"ann_file_name= \", ann_file_name)\n",
    "\n",
    "            # read in predefined order\n",
    "            file = open(img_file_name, \"r\")\n",
    "\n",
    "            for line in file:\n",
    "\n",
    "                # each line is a keypoint pair to this picture\n",
    "                # file is a list of strings read from the txt file where each line is treated as a string (return or enter at the end of each line is used to determine the end of each string)\n",
    "                vWords = line.split()\n",
    "\n",
    "                # splitting the line string into a list of elements, where each element is a sub string of the main string called 'line', using whitespace as the spacer element\n",
    "                obj = {}\n",
    "\n",
    "                # an empty dict is created\n",
    "\n",
    "                img[\"filename\"] = os.path.splitext(img_file_name)[0] + \".bmp\"\n",
    "                # absolute path of the image file for the current annotation file being read, is stored as a string in img['filename']\n",
    "                # where img is a dictionary\n",
    "\n",
    "                if (edge_threshold < float(vWords[5])) and (\n",
    "                    side_threshold < float(vWords[6])\n",
    "                ):\n",
    "\n",
    "                    obj[\"name\"] = vWords[0]\n",
    "                    # in the empty obj dict a class name is created.\n",
    "                    # this name is appended by index 0 of vWords which is nothing but class\n",
    "\n",
    "                    # the following if block is for incrementing the number of classes in the empty list of seen_lables={}\n",
    "                    if obj[\"name\"] in seen_labels:\n",
    "                        seen_labels[obj[\"name\"]] += 1\n",
    "                    # now as class (0) is now visible in seen_labels for every iteration 1 is appended\n",
    "                    else:\n",
    "                        seen_labels[obj[\"name\"]] = 1\n",
    "                    # initally if obj['name'] is not in seen_labels then its appended by 1\n",
    "\n",
    "                    # two keypoints which give pose (x0, y0) and direction (x1, y1) in pixel coordinates, all following coordinates are from object polygon and thus ignored\n",
    "                    obj[\"x0\"] = float(vWords[1])\n",
    "                    # x0\n",
    "                    obj[\"y0\"] = float(vWords[2])\n",
    "                    # y0\n",
    "\n",
    "                    angle_alpha = float(vWords[3])\n",
    "\n",
    "                    alpha_deg = np.rad2deg(angle_alpha)\n",
    "                    slope=math.tan(alpha_deg)\n",
    "                    length=10\n",
    "                    obj[\"x1\"] = obj[\"x0\"]+math.sqrt(length**2/(1+slope**2))\n",
    "                    obj[\"y1\"] = (slope*(obj[\"x1\"]-obj[\"x0\"]))+obj[\"y0\"]\n",
    "\n",
    "                    img[\"object\"]+=[obj]\n",
    "\n",
    "                    # the list called object is in itself stored as a key-value pair within a dictionary called img. the dict img contains two elements {'object', 'filename(abs path to img file)'}\n",
    "                else:\n",
    "                    print(\"Shaft was not considered for training \\n\")\n",
    "            file.close()\n",
    "\n",
    "            if len(img[\"object\"]) > 0:\n",
    "                # if the object dict is no longer empty then store all the string of data stored in img, in list of all_imgs\n",
    "                all_imgs += [img]\n",
    "    return all_imgs, seen_labels"
   ]
  },
  {
   "cell_type": "code",
   "execution_count": 14,
   "metadata": {
    "tags": []
   },
   "outputs": [
    {
     "output_type": "error",
     "ename": "FileNotFoundError",
     "evalue": "[WinError 3] The system cannot find the path specified: 'D:\\\\Master Project\\\\github\\\\kk\\\\Masters-Project\\\\data\\\\shafts\\\\likith\\\\Shafts_radians\\\\train\\\\'",
     "traceback": [
      "\u001b[1;31m---------------------------------------------------------------------------\u001b[0m",
      "\u001b[1;31mFileNotFoundError\u001b[0m                         Traceback (most recent call last)",
      "\u001b[1;32m<ipython-input-14-6df74f4644b1>\u001b[0m in \u001b[0;36m<module>\u001b[1;34m\u001b[0m\n\u001b[1;32m----> 1\u001b[1;33m \u001b[0mread_annotations\u001b[0m\u001b[1;33m(\u001b[0m\u001b[1;34m\"D:\\\\Master Project\\\\github\\\\kk\\\\Masters-Project\\\\data\\\\shafts\\\\likith\\\\Shafts_radians\\\\train\\\\\"\u001b[0m\u001b[1;33m,\u001b[0m\u001b[1;36m0.5\u001b[0m\u001b[1;33m,\u001b[0m\u001b[1;36m0.5\u001b[0m\u001b[1;33m)\u001b[0m\u001b[1;33m\u001b[0m\u001b[1;33m\u001b[0m\u001b[0m\n\u001b[0m",
      "\u001b[1;32m<ipython-input-13-1b26c16131b0>\u001b[0m in \u001b[0;36mread_annotations\u001b[1;34m(img_dir, edge_threshold, side_threshold)\u001b[0m\n\u001b[0;32m      7\u001b[0m     \u001b[1;31m# labels would be soon appended in this empty dict list\u001b[0m\u001b[1;33m\u001b[0m\u001b[1;33m\u001b[0m\u001b[1;33m\u001b[0m\u001b[0m\n\u001b[0;32m      8\u001b[0m \u001b[1;33m\u001b[0m\u001b[0m\n\u001b[1;32m----> 9\u001b[1;33m     \u001b[1;32mfor\u001b[0m \u001b[0mann_file_name\u001b[0m \u001b[1;32min\u001b[0m \u001b[0msorted\u001b[0m\u001b[1;33m(\u001b[0m\u001b[0mos\u001b[0m\u001b[1;33m.\u001b[0m\u001b[0mlistdir\u001b[0m\u001b[1;33m(\u001b[0m\u001b[0mimg_dir\u001b[0m\u001b[1;33m)\u001b[0m\u001b[1;33m)\u001b[0m\u001b[1;33m:\u001b[0m\u001b[1;33m\u001b[0m\u001b[1;33m\u001b[0m\u001b[0m\n\u001b[0m\u001b[0;32m     10\u001b[0m \u001b[1;33m\u001b[0m\u001b[0m\n\u001b[0;32m     11\u001b[0m         \u001b[1;31m# creates a list of names in the given image directory (img_dir)\u001b[0m\u001b[1;33m\u001b[0m\u001b[1;33m\u001b[0m\u001b[1;33m\u001b[0m\u001b[0m\n",
      "\u001b[1;31mFileNotFoundError\u001b[0m: [WinError 3] The system cannot find the path specified: 'D:\\\\Master Project\\\\github\\\\kk\\\\Masters-Project\\\\data\\\\shafts\\\\likith\\\\Shafts_radians\\\\train\\\\'"
     ]
    }
   ],
   "source": [
    "read_annotations(\"D:\\\\Master Project\\\\github\\\\kk\\\\Masters-Project\\\\data\\\\shafts\\\\likith\\\\Shafts_radians\\\\train\\\\\",0.5,0.5)\n"
   ]
  },
  {
   "cell_type": "code",
   "execution_count": 16,
   "metadata": {},
   "outputs": [
    {
     "output_type": "error",
     "ename": "NameError",
     "evalue": "name 'image_path' is not defined",
     "traceback": [
      "\u001b[1;31m---------------------------------------------------------------------------\u001b[0m",
      "\u001b[1;31mNameError\u001b[0m                                 Traceback (most recent call last)",
      "\u001b[1;32m<ipython-input-16-aceba41f9ece>\u001b[0m in \u001b[0;36m<module>\u001b[1;34m\u001b[0m\n\u001b[0;32m      2\u001b[0m \u001b[0mcv2\u001b[0m\u001b[1;33m.\u001b[0m\u001b[0mcircle\u001b[0m\u001b[1;33m(\u001b[0m\u001b[0mimage\u001b[0m\u001b[1;33m,\u001b[0m \u001b[1;33m(\u001b[0m\u001b[1;36m54\u001b[0m\u001b[1;33m,\u001b[0m \u001b[1;36m90\u001b[0m\u001b[1;33m)\u001b[0m\u001b[1;33m,\u001b[0m \u001b[1;36m4\u001b[0m\u001b[1;33m,\u001b[0m \u001b[1;33m(\u001b[0m\u001b[1;36m0\u001b[0m\u001b[1;33m,\u001b[0m \u001b[1;36m0\u001b[0m\u001b[1;33m,\u001b[0m \u001b[1;36m255\u001b[0m\u001b[1;33m)\u001b[0m\u001b[1;33m,\u001b[0m \u001b[1;36m1\u001b[0m\u001b[1;33m)\u001b[0m\u001b[1;33m\u001b[0m\u001b[1;33m\u001b[0m\u001b[0m\n\u001b[0;32m      3\u001b[0m \u001b[0mcv2\u001b[0m\u001b[1;33m.\u001b[0m\u001b[0mline\u001b[0m\u001b[1;33m(\u001b[0m\u001b[0mimage\u001b[0m\u001b[1;33m,\u001b[0m \u001b[1;33m(\u001b[0m\u001b[1;36m54\u001b[0m\u001b[1;33m,\u001b[0m \u001b[1;36m90\u001b[0m\u001b[1;33m)\u001b[0m\u001b[1;33m,\u001b[0m \u001b[1;33m(\u001b[0m\u001b[1;36m62\u001b[0m\u001b[1;33m,\u001b[0m \u001b[1;36m94\u001b[0m\u001b[1;33m)\u001b[0m\u001b[1;33m,\u001b[0m \u001b[1;33m(\u001b[0m\u001b[1;36m0\u001b[0m\u001b[1;33m,\u001b[0m \u001b[1;36m0\u001b[0m\u001b[1;33m,\u001b[0m \u001b[1;36m255\u001b[0m\u001b[1;33m)\u001b[0m\u001b[1;33m,\u001b[0m \u001b[1;36m1\u001b[0m\u001b[1;33m)\u001b[0m\u001b[1;33m\u001b[0m\u001b[1;33m\u001b[0m\u001b[0m\n\u001b[1;32m----> 4\u001b[1;33m \u001b[0mcv2\u001b[0m\u001b[1;33m.\u001b[0m\u001b[0mimwrite\u001b[0m\u001b[1;33m(\u001b[0m\u001b[0mimage_path\u001b[0m\u001b[1;33m[\u001b[0m\u001b[1;33m:\u001b[0m\u001b[1;33m-\u001b[0m\u001b[1;36m4\u001b[0m\u001b[1;33m]\u001b[0m \u001b[1;33m+\u001b[0m \u001b[1;34m\"_detected_test\"\u001b[0m \u001b[1;33m+\u001b[0m \u001b[0mimage_path\u001b[0m\u001b[1;33m[\u001b[0m\u001b[1;33m-\u001b[0m\u001b[1;36m4\u001b[0m\u001b[1;33m:\u001b[0m\u001b[1;33m]\u001b[0m\u001b[1;33m,\u001b[0m \u001b[0mimage\u001b[0m\u001b[1;33m)\u001b[0m\u001b[1;33m\u001b[0m\u001b[1;33m\u001b[0m\u001b[0m\n\u001b[0m",
      "\u001b[1;31mNameError\u001b[0m: name 'image_path' is not defined"
     ]
    }
   ],
   "source": [
    "imagep_path = \"G:\\Shaft_Program_Files\\Shafts\\Img_000000.bmp\"\n",
    "image = cv2.imread(\"G:\\Shaft_Program_Files\\Shafts\\Img_000000.bmp\")\n",
    "cv2.circle(image, (54, 90), 4, (0, 0, 255), 1)\n",
    "cv2.line(image, (54, 90), (62, 94), (0, 0, 255), 1)\n",
    "cv2.imwrite(image_path[:-4] + \"_detected_test\" + image_path[-4:], image)"
   ]
  }
 ],
 "metadata": {
  "language_info": {
   "codemirror_mode": {
    "name": "ipython",
    "version": 3
   },
   "file_extension": ".py",
   "mimetype": "text/x-python",
   "name": "python",
   "nbconvert_exporter": "python",
   "pygments_lexer": "ipython3",
   "version": "3.6.10-final"
  },
  "orig_nbformat": 2,
  "kernelspec": {
   "name": "python3",
   "display_name": "Python 3"
  }
 },
 "nbformat": 4,
 "nbformat_minor": 2
}